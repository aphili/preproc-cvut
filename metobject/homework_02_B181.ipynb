{
 "cells": [
  {
   "cell_type": "markdown",
   "metadata": {},
   "source": [
    "# Homework nr. 2 - data cleaning (deadline 8/11/2018)\n",
    "\n",
    "In short, the main task is to clean The Metropolitan Museum of Art Open Access dataset.\n",
    "  \n",
    "> The instructions are not given in details: It is up to you to come up with ideas on how to fulfill the particular tasks as best you can. ;)\n",
    "\n",
    "## What are you supposed to do:\n",
    "\n",
    "  1. Download the dataset MetObjects.csv from the repository https://github.com/metmuseum/openaccess/.\n",
    "  2. Check consistency of at least three features where you expect problems (include \"Object Name\" feature).\n",
    "  3. Select some features where you expect integrity problems (describe your choice) and check integrity of those features.\n",
    "  4. Convert at least five features to a proper data type. Choose at least one numeric, one categorical and one datetime.\n",
    "  5. Find some outliers (describe your selection criteria).\n",
    "  6. Detect missing data in at least three features, convert them to a proper representation (if they are already not), and impute missing values in at least one feature.\n",
    "\n",
    "**If you do all this properly, you will obtain 6 points**\n",
    "\n",
    "To earn **extra two points** you can do some of these:\n",
    "  * Focus more precisely on cleaning of the \"Medium\" feature. Such if you like to use it in KNN based algorithms later.\n",
    "  * Focus on the extraction of physical dimensions of each item (width, depth and height in centimeters) from the \"Dimensions\" feature.\n",
    "\n",
    "## Comments\n",
    "\n",
    "  * Please follow the instructions from https://courses.fit.cvut.cz/MI-PDD/homeworks/index.html.\n",
    "  * If the reviewing teacher is not satisfied, he can give you another chance to rework your homework and to obtain more points."
   ]
  },
  {
   "cell_type": "markdown",
   "metadata": {},
   "source": [
    "### Answers"
   ]
  },
  {
   "cell_type": "code",
   "execution_count": 118,
   "metadata": {
    "scrolled": true
   },
   "outputs": [],
   "source": [
    "import pandas as pd\n",
    "import numpy as np\n",
    "import matplotlib.pyplot as plt\n",
    "\n",
    "data = pd.read_csv(\"MetObjects.csv\")"
   ]
  },
  {
   "cell_type": "code",
   "execution_count": 5,
   "metadata": {
    "scrolled": true
   },
   "outputs": [
    {
     "name": "stdout",
     "output_type": "stream",
     "text": [
      "<class 'pandas.core.frame.DataFrame'>\n",
      "RangeIndex: 490325 entries, 0 to 490324\n",
      "Data columns (total 43 columns):\n",
      "Object Number              490325 non-null object\n",
      "Is Highlight               490325 non-null bool\n",
      "Is Public Domain           490325 non-null bool\n",
      "Object ID                  490325 non-null int64\n",
      "Department                 490325 non-null object\n",
      "Object Name                486173 non-null object\n",
      "Title                      459242 non-null object\n",
      "Culture                    208797 non-null object\n",
      "Period                     89387 non-null object\n",
      "Dynasty                    23286 non-null object\n",
      "Reign                      11204 non-null object\n",
      "Portfolio                  21944 non-null object\n",
      "Artist Role                282424 non-null object\n",
      "Artist Prefix              97817 non-null object\n",
      "Artist Display Name        284520 non-null object\n",
      "Artist Display Bio         236082 non-null object\n",
      "Artist Suffix              11652 non-null object\n",
      "Artist Alpha Sort          284487 non-null object\n",
      "Artist Nationality         193586 non-null object\n",
      "Artist Begin Date          238185 non-null object\n",
      "Artist End Date            235495 non-null object\n",
      "Object Date                475258 non-null object\n",
      "Object Begin Date          490325 non-null int64\n",
      "Object End Date            490325 non-null int64\n",
      "Medium                     482766 non-null object\n",
      "Dimensions                 413597 non-null object\n",
      "Credit Line                489545 non-null object\n",
      "Geography Type             60230 non-null object\n",
      "City                       32104 non-null object\n",
      "State                      2811 non-null object\n",
      "County                     8558 non-null object\n",
      "Country                    76662 non-null object\n",
      "Region                     31820 non-null object\n",
      "Subregion                  22156 non-null object\n",
      "Locale                     15565 non-null object\n",
      "Locus                      7332 non-null object\n",
      "Excavation                 15967 non-null object\n",
      "River                      2098 non-null object\n",
      "Classification             433788 non-null object\n",
      "Rights and Reproduction    24476 non-null object\n",
      "Link Resource              490325 non-null object\n",
      "Metadata Date              490325 non-null object\n",
      "Repository                 490325 non-null object\n",
      "dtypes: bool(2), int64(3), object(38)\n",
      "memory usage: 154.3+ MB\n"
     ]
    },
    {
     "data": {
      "text/plain": [
       "Object Number              487647\n",
       "Is Highlight                    2\n",
       "Is Public Domain                2\n",
       "Object ID                  490325\n",
       "Department                     19\n",
       "Object Name                 28187\n",
       "Title                      248036\n",
       "Culture                      7224\n",
       "Period                       1794\n",
       "Dynasty                       379\n",
       "Reign                         379\n",
       "Portfolio                    3200\n",
       "Artist Role                  6277\n",
       "Artist Prefix                5554\n",
       "Artist Display Name         61370\n",
       "Artist Display Bio          45245\n",
       "Artist Suffix                1747\n",
       "Artist Alpha Sort           61373\n",
       "Artist Nationality           3806\n",
       "Artist Begin Date           24017\n",
       "Artist End Date             24351\n",
       "Object Date                 32566\n",
       "Object Begin Date            2103\n",
       "Object End Date              2079\n",
       "Medium                      64711\n",
       "Dimensions                 254865\n",
       "Credit Line                 38830\n",
       "Geography Type                133\n",
       "City                         2665\n",
       "State                         108\n",
       "County                       1167\n",
       "Country                      1097\n",
       "Region                        806\n",
       "Subregion                     373\n",
       "Locale                        856\n",
       "Locus                        1350\n",
       "Excavation                    366\n",
       "River                         230\n",
       "Classification               1218\n",
       "Rights and Reproduction      1362\n",
       "Link Resource              490325\n",
       "Metadata Date                   1\n",
       "Repository                      1\n",
       "dtype: int64"
      ]
     },
     "metadata": {},
     "output_type": "display_data"
    }
   ],
   "source": [
    "#Simply checking the data we have in the MetObjects CSV\n",
    "data.info()\n",
    "\n",
    "#Looking at how many unique elements we have per column.\n",
    "display(data.nunique())"
   ]
  },
  {
   "cell_type": "markdown",
   "metadata": {},
   "source": [
    "### 2) Data consistency of Object Name, Country, Object Begin Date"
   ]
  },
  {
   "cell_type": "code",
   "execution_count": 6,
   "metadata": {
    "scrolled": true
   },
   "outputs": [
    {
     "data": {
      "text/plain": [
       "array(['Coin', 'Peso', 'Centavos', ..., 'N/A.', 'biface',\n",
       "       'Wedjat eye bead'], dtype=object)"
      ]
     },
     "metadata": {},
     "output_type": "display_data"
    },
    {
     "data": {
      "text/plain": [
       "array([nan, 'Mexico', 'Guatemala', ..., 'present-day Kirghiztan',\n",
       "       'Northwest Iran', 'Germanay'], dtype=object)"
      ]
     },
     "metadata": {},
     "output_type": "display_data"
    },
    {
     "data": {
      "text/plain": [
       "array([1853, 1901, 1909, ..., 2017, -955, 2018])"
      ]
     },
     "metadata": {},
     "output_type": "display_data"
    }
   ],
   "source": [
    "#We are going to check the consistency of these three features\n",
    "\n",
    "display(data['Object Name'].unique())\n",
    "display(data['Country'].unique())\n",
    "display(data['Object Begin Date'].unique())"
   ]
  },
  {
   "cell_type": "code",
   "execution_count": 29,
   "metadata": {},
   "outputs": [
    {
     "name": "stdout",
     "output_type": "stream",
     "text": [
      "The percentage of NAs for the feature Object Name is :  0.846785295467292 %\n",
      "The percentage of NAs for the feature Country is :  84.3650639881711 %\n",
      "The percentage of NAs for the feature Object Begin Date is :  0.0 %\n"
     ]
    }
   ],
   "source": [
    "#Before diving into precise details about the inconsistencies in each feature, we can start by taking a look at the percentage of NAs in each of them.\n",
    "#This is a first in knowing how consistent our data is.\n",
    "\n",
    "nas_oname = data['Object Name'].isna().sum()\n",
    "nas_country = data['Country'].isna().sum()\n",
    "nas_obdate = data['Object Begin Date'].isna().sum()\n",
    "\n",
    "val_oname = len(data['Object Name'])\n",
    "val_country = len(data['Country'])\n",
    "val_obdate = len(data['Object Begin Date'])\n",
    "\n",
    "print(\"The percentage of NAs for the feature Object Name is : \", (nas_oname/val_oname)*100, \"%\")\n",
    "print(\"The percentage of NAs for the feature Country is : \", (nas_country/val_country)*100, \"%\")\n",
    "print(\"The percentage of NAs for the feature Object Begin Date is : \", (nas_obdate/val_obdate)*100, \"%\")"
   ]
  },
  {
   "cell_type": "code",
   "execution_count": 35,
   "metadata": {
    "scrolled": false
   },
   "outputs": [
    {
     "name": "stdout",
     "output_type": "stream",
     "text": [
      "The number of unique values, when they are not lower cased is :  28188\n",
      "The number of unique values, when they are not lower cased is :  27403\n"
     ]
    }
   ],
   "source": [
    "# Regarding the Object Name feature we can see that the data is pretty consistent NA wise, since less than 1% are NAs.\n",
    "# Now we should look further at the values themselves.\n",
    "# Because the \"Object Name\" is supposed to be of string type, what can be interesting is to check the typo, meaning if there is a difference between the number of unique values in their original form, and when they are all lower cased.\n",
    "# We are expecting to see less unique values when they are lower cased.\n",
    "\n",
    "oname_norm = len(data['Object Name'].unique())\n",
    "oname_low = len(data['Object Name'].str.lower().unique())\n",
    "\n",
    "print(\"The number of unique values, when they are not lower cased is : \", oname_norm)\n",
    "print(\"The number of unique values, when they are not lower cased is : \", oname_low)\n",
    "\n",
    "#Eventhough not a lot of data is missing we can say that there is quite a bit of an issue typo wise for this feature."
   ]
  },
  {
   "cell_type": "code",
   "execution_count": 40,
   "metadata": {},
   "outputs": [
    {
     "name": "stdout",
     "output_type": "stream",
     "text": [
      "The number of unique values, when they are not lower cased is :  1098\n",
      "The number of unique values, when they are not lower cased is :  1078\n"
     ]
    }
   ],
   "source": [
    "# Regarding the Country feature, we can see that the data is not really consistent NA wise, due to the fact that more than 84% of them are missing.\n",
    "# But we can still check the consistency of this feature in the same fashion that we did with the Object Name since their data type are similar. \n",
    "\n",
    "country_norm = len(data['Country'].unique())\n",
    "country_low = len(data['Country'].str.lower().unique())\n",
    "\n",
    "print(\"The number of unique values, when they are not lower cased is : \", country_norm)\n",
    "print(\"The number of unique values, when they are not lower cased is : \", country_low)\n",
    "\n",
    "# Eventhough a lot of data is missing, we can say that the typo is pretty consistent since the difference between the lower casing and the none lower casing isn't that much"
   ]
  },
  {
   "cell_type": "code",
   "execution_count": 39,
   "metadata": {},
   "outputs": [
    {
     "name": "stdout",
     "output_type": "stream",
     "text": [
      "The number of negative values for the Object Begin Date feature is :  67045\n",
      "This represents :  13.67358384744812 % of values.\n"
     ]
    }
   ],
   "source": [
    "# Regarding the Object Begin Date feature, there isn't any missing values. \n",
    "# But, by quickly checking the different values of Object Begin Date, we can see that there are negative values, which is not normal.\n",
    "# The following line shows that indeed, there are a lot of negative values.\n",
    "\n",
    "obdate_neg = data['Object Begin Date'].lt(0).sum()\n",
    "\n",
    "print(\"The number of negative values for the Object Begin Date feature is : \", obdate_neg)\n",
    "print(\"This represents : \", (obdate_neg/val_obdate)*100, \"% of values.\") \n",
    "\n",
    "# So there is definitely adjustment that can be made regarding this feature."
   ]
  },
  {
   "cell_type": "markdown",
   "metadata": {},
   "source": [
    "### 3) Data integrity of : Geography, Artist End Date, Object End Date"
   ]
  },
  {
   "cell_type": "code",
   "execution_count": 18,
   "metadata": {},
   "outputs": [
    {
     "name": "stdout",
     "output_type": "stream",
     "text": [
      "The number of values in the Geography feature matches the number of values in Country, because the difference count is :  0\n"
     ]
    }
   ],
   "source": [
    "# The first feature that will be subject to our integrity check is : Geography. \n",
    "# We can see that there are sometimes, multiple values corresponding to a country (i.e Possibly made in | Possible made in; country : France | England)\n",
    "# We want to check if the number of values in Geography, is corresponding to number of values in Country.\n",
    "# In order to do this, we will create two lists, where there will be the number of values per row of each feature and finally sum the number of differences.\n",
    "\n",
    "# Splitting the data and retrieving the number of values per row for the Geography feature.\n",
    "geo_split = data['Geography Type'].str.split(\"|\")\n",
    "\n",
    "list_geo = []\n",
    "for i in geo_split:\n",
    "    try:\n",
    "        list_geo.append(len(i))\n",
    "    except TypeError:\n",
    "        list_geo.append(0)\n",
    "        \n",
    "# Splitting the data and retrieving the number of values per row for the Country feature.\n",
    "country_split = data['Country'].str.split(\"|\")\n",
    "list_country = []\n",
    "\n",
    "for i in country_split:\n",
    "    try:\n",
    "        list_country.append(len(i))\n",
    "    except TypeError:\n",
    "        list_country.append(0)\n",
    "\n",
    "# Creating a difference count\n",
    "difference = 0\n",
    "\n",
    "for i in list_geo:\n",
    "    if(list_geo[i] != list_country[i]):\n",
    "        difference = difference + 1\n",
    "        \n",
    "print(\"The number of values in the Geography feature matches the number of values in Country, because the difference count is : \", difference)\n",
    "\n",
    "# The difference count is 0, so we can say that there is no integrity issues with the Geography feature (according to what were looking for)"
   ]
  },
  {
   "cell_type": "code",
   "execution_count": 36,
   "metadata": {
    "scrolled": true
   },
   "outputs": [
    {
     "name": "stdout",
     "output_type": "stream",
     "text": [
      "There are 163 rows where the Artist End Date is lower than its Begin Date.\n"
     ]
    }
   ],
   "source": [
    "# Integrity between the Artist End Date and the Artist Begin Date.\n",
    "# Here we simply to check if the Artist End Date isn't lower than the Artist Begin Date.\n",
    "# If in some cases we find that some the Artist End Date are lower than their Begin Date then there is an integrity problem. \n",
    "\n",
    "artist_date_diff = (data['Artist End Date'] < data['Artist Begin Date'])\n",
    "\n",
    "artist_date_result = []\n",
    "for y in artist_date_diff.value_counts():\n",
    "    artist_date_result.append(y)\n",
    "    \n",
    "print(\"There are\", artist_date_result[1], \"rows where the Artist End Date is lower than its Begin Date.\")\n",
    "\n",
    "# According to this result we can say that there is an integrity problem with this feature"
   ]
  },
  {
   "cell_type": "code",
   "execution_count": 45,
   "metadata": {},
   "outputs": [
    {
     "name": "stdout",
     "output_type": "stream",
     "text": [
      "There are 198 rows where the Object End Date is lower than its Begin Date.\n"
     ]
    }
   ],
   "source": [
    "# Integrity between the Object End Date and the Object Begin Date.\n",
    "# Here we simply to check if the Object End Date isn't lower than the Object Begin Date.\n",
    "# If in some cases we find that some the Object End Date are lower than their Begin Date then there is an integrity problem. \n",
    "\n",
    "artist_date_diff = (data['Object End Date'] < data['Object Begin Date'])\n",
    "\n",
    "artist_date_result = []\n",
    "for y in artist_date_diff.value_counts():\n",
    "    artist_date_result.append(y)\n",
    "    \n",
    "print(\"There are\", artist_date_result[1], \"rows where the Object End Date is lower than its Begin Date.\")\n",
    "\n",
    "# According to this result we can say that there is an integrity problem with this feature"
   ]
  },
  {
   "cell_type": "markdown",
   "metadata": {},
   "source": [
    "### 4) Convert at least five features to a proper data type. Choose at least one numeric, one categorical and one datetime : \n",
    "\n",
    "- Numerical conversion : Object ID, Artist Begin Date\n",
    "- Categorical conversion : Artist Role, Medium\n",
    "- Datetime converson : Metadata Date"
   ]
  },
  {
   "cell_type": "code",
   "execution_count": 106,
   "metadata": {},
   "outputs": [
    {
     "name": "stdout",
     "output_type": "stream",
     "text": [
      "<class 'pandas.core.frame.DataFrame'>\n",
      "RangeIndex: 490325 entries, 0 to 490324\n",
      "Data columns (total 43 columns):\n",
      "Object Number              490325 non-null object\n",
      "Is Highlight               490325 non-null bool\n",
      "Is Public Domain           490325 non-null bool\n",
      "Object ID                  490325 non-null int64\n",
      "Department                 490325 non-null object\n",
      "Object Name                486173 non-null object\n",
      "Title                      459242 non-null object\n",
      "Culture                    208797 non-null object\n",
      "Period                     89387 non-null object\n",
      "Dynasty                    23286 non-null object\n",
      "Reign                      11204 non-null object\n",
      "Portfolio                  21944 non-null object\n",
      "Artist Role                282424 non-null category\n",
      "Artist Prefix              97817 non-null object\n",
      "Artist Display Name        284520 non-null object\n",
      "Artist Display Bio         236082 non-null object\n",
      "Artist Suffix              11652 non-null object\n",
      "Artist Alpha Sort          284487 non-null object\n",
      "Artist Nationality         193586 non-null object\n",
      "Artist Begin Date          490325 non-null int64\n",
      "Artist End Date            235495 non-null object\n",
      "Object Date                475258 non-null object\n",
      "Object Begin Date          490325 non-null int64\n",
      "Object End Date            490325 non-null int64\n",
      "Medium                     482766 non-null category\n",
      "Dimensions                 413597 non-null object\n",
      "Credit Line                489545 non-null object\n",
      "Geography Type             60230 non-null object\n",
      "City                       32104 non-null object\n",
      "State                      2811 non-null object\n",
      "County                     8558 non-null object\n",
      "Country                    76662 non-null object\n",
      "Region                     31820 non-null object\n",
      "Subregion                  22156 non-null object\n",
      "Locale                     15565 non-null object\n",
      "Locus                      7332 non-null object\n",
      "Excavation                 15967 non-null object\n",
      "River                      2098 non-null object\n",
      "Classification             433788 non-null object\n",
      "Rights and Reproduction    24476 non-null object\n",
      "Link Resource              490325 non-null object\n",
      "Metadata Date              490325 non-null datetime64[ns]\n",
      "Repository                 490325 non-null object\n",
      "dtypes: bool(2), category(2), datetime64[ns](1), int64(4), object(34)\n",
      "memory usage: 152.8+ MB\n"
     ]
    },
    {
     "data": {
      "text/plain": [
       "None"
      ]
     },
     "metadata": {},
     "output_type": "display_data"
    }
   ],
   "source": [
    "# First of all the numerical conversion of the Object ID and Artist Begin date feature\n",
    "data['Object ID'] = pd.to_numeric(data['Object ID'])\n",
    "data['Artist Begin Date'] = pd.to_numeric(data['Object Begin Date'])\n",
    "\n",
    "# Now lets convert Artist Role and Medium features to categories\n",
    "data['Artist Role'] = data['Artist Role'].astype('category')\n",
    "data['Medium'] = data['Medium'].astype('category')\n",
    "\n",
    "# Finally lets convert the Metadata Date to datetime\n",
    "data['Metadata Date'] = pd.to_datetime(data['Metadata Date'])\n",
    "display(data.info())"
   ]
  },
  {
   "cell_type": "markdown",
   "metadata": {},
   "source": [
    "### 5) Find some outliers (describe your selection criteria)."
   ]
  },
  {
   "cell_type": "code",
   "execution_count": 31,
   "metadata": {},
   "outputs": [
    {
     "data": {
      "text/html": [
       "<div>\n",
       "<style scoped>\n",
       "    .dataframe tbody tr th:only-of-type {\n",
       "        vertical-align: middle;\n",
       "    }\n",
       "\n",
       "    .dataframe tbody tr th {\n",
       "        vertical-align: top;\n",
       "    }\n",
       "\n",
       "    .dataframe thead th {\n",
       "        text-align: right;\n",
       "    }\n",
       "</style>\n",
       "<table border=\"1\" class=\"dataframe\">\n",
       "  <thead>\n",
       "    <tr style=\"text-align: right;\">\n",
       "      <th></th>\n",
       "      <th>Object ID</th>\n",
       "      <th>Artist Begin Date</th>\n",
       "      <th>Object Begin Date</th>\n",
       "      <th>Object End Date</th>\n",
       "    </tr>\n",
       "  </thead>\n",
       "  <tbody>\n",
       "    <tr>\n",
       "      <th>count</th>\n",
       "      <td>490325.000000</td>\n",
       "      <td>490325.000000</td>\n",
       "      <td>490325.000000</td>\n",
       "      <td>490325.000000</td>\n",
       "    </tr>\n",
       "    <tr>\n",
       "      <th>mean</th>\n",
       "      <td>383332.828189</td>\n",
       "      <td>1308.275103</td>\n",
       "      <td>1308.275103</td>\n",
       "      <td>1407.464255</td>\n",
       "    </tr>\n",
       "    <tr>\n",
       "      <th>std</th>\n",
       "      <td>229400.524656</td>\n",
       "      <td>1658.584983</td>\n",
       "      <td>1658.584983</td>\n",
       "      <td>1152.647534</td>\n",
       "    </tr>\n",
       "    <tr>\n",
       "      <th>min</th>\n",
       "      <td>1.000000</td>\n",
       "      <td>-400000.000000</td>\n",
       "      <td>-400000.000000</td>\n",
       "      <td>-240000.000000</td>\n",
       "    </tr>\n",
       "    <tr>\n",
       "      <th>25%</th>\n",
       "      <td>212141.000000</td>\n",
       "      <td>1535.000000</td>\n",
       "      <td>1535.000000</td>\n",
       "      <td>1593.000000</td>\n",
       "    </tr>\n",
       "    <tr>\n",
       "      <th>50%</th>\n",
       "      <td>373207.000000</td>\n",
       "      <td>1800.000000</td>\n",
       "      <td>1800.000000</td>\n",
       "      <td>1845.000000</td>\n",
       "    </tr>\n",
       "    <tr>\n",
       "      <th>75%</th>\n",
       "      <td>561704.000000</td>\n",
       "      <td>1900.000000</td>\n",
       "      <td>1900.000000</td>\n",
       "      <td>1911.000000</td>\n",
       "    </tr>\n",
       "    <tr>\n",
       "      <th>max</th>\n",
       "      <td>820150.000000</td>\n",
       "      <td>5000.000000</td>\n",
       "      <td>5000.000000</td>\n",
       "      <td>157555.000000</td>\n",
       "    </tr>\n",
       "  </tbody>\n",
       "</table>\n",
       "</div>"
      ],
      "text/plain": [
       "           Object ID  Artist Begin Date  Object Begin Date  Object End Date\n",
       "count  490325.000000      490325.000000      490325.000000    490325.000000\n",
       "mean   383332.828189        1308.275103        1308.275103      1407.464255\n",
       "std    229400.524656        1658.584983        1658.584983      1152.647534\n",
       "min         1.000000     -400000.000000     -400000.000000   -240000.000000\n",
       "25%    212141.000000        1535.000000        1535.000000      1593.000000\n",
       "50%    373207.000000        1800.000000        1800.000000      1845.000000\n",
       "75%    561704.000000        1900.000000        1900.000000      1911.000000\n",
       "max    820150.000000        5000.000000        5000.000000    157555.000000"
      ]
     },
     "metadata": {},
     "output_type": "display_data"
    }
   ],
   "source": [
    "# First of all lets look at a description of our dataframe.\n",
    "\n",
    "display(data.describe())\n",
    "\n",
    "# As we can see in the description of the dataframe, the max in Object Begin Date, Artist Begin Date and Object End date especially, is way over the 75 percentile of values.\n",
    "# Therefore there are defintely outliers in these features."
   ]
  },
  {
   "cell_type": "code",
   "execution_count": 45,
   "metadata": {},
   "outputs": [
    {
     "name": "stdout",
     "output_type": "stream",
     "text": [
      "0.0005399999999999849\n"
     ]
    },
    {
     "data": {
      "image/png": "[encoded data removed]",
      "text/plain": [
       "<Figure size 432x288 with 1 Axes>"
      ]
     },
     "metadata": {
      "needs_background": "light"
     },
     "output_type": "display_data"
    }
   ],
   "source": [
    "# Now lets plot a graph to verify this visually for the Object Begin Date and End Date\n",
    "\n",
    "data.plot.scatter(x='Object Begin Date', y='Object End Date')\n",
    "\n",
    "# This confirms our assumptions.\n",
    "# Now lets see how many outliers are for each of the above mentioned features."
   ]
  },
  {
   "cell_type": "code",
   "execution_count": 70,
   "metadata": {},
   "outputs": [
    {
     "name": "stdout",
     "output_type": "stream",
     "text": [
      "There are  90821  outliers for the feature Object Begin Date.\n",
      "This represents about 18.52 % of values.\n"
     ]
    }
   ],
   "source": [
    "# We can use the quartile calculations to identify how many outliers there are for one feature.\n",
    "\n",
    "obdate = data['Object Begin Date']\n",
    "\n",
    "Q1 = data['Object Begin Date'].quantile(0.25)\n",
    "Q3 = data['Object Begin Date'].quantile(0.75)\n",
    "IQR = Q3 - Q1\n",
    "\n",
    "outliers = ((obdate < (Q1 - 1.5 * IQR)) | (obdate > (Q3 + 1.5 * IQR))).sum()\n",
    "\n",
    "print(\"There are \", outliers, \" outliers for the feature Object Begin Date.\")\n",
    "print(\"This represents about\", round((outliers/len(obdate)*100), 2), \"% of values.\")"
   ]
  },
  {
   "cell_type": "markdown",
   "metadata": {},
   "source": [
    "### 6) Detect missing data in at least three features, convert them to a proper representation (if they are already not), and impute missing values in at least one feature."
   ]
  },
  {
   "cell_type": "code",
   "execution_count": 89,
   "metadata": {},
   "outputs": [
    {
     "name": "stdout",
     "output_type": "stream",
     "text": [
      "There are, 281528 missing values in the Culture feature.\n",
      "There are, 430095 missing values in the Geography Type feature.\n",
      "There are, 15067 missing values in the Object Date feature.\n"
     ]
    }
   ],
   "source": [
    "# Here we will focus on Culture, Geogaphy Type and Period features.\n",
    "\n",
    "# Lets see how many NAs there are in each of these features.\n",
    "nas_culture = data['Culture'].isna().sum()\n",
    "nas_gtype = data['Geography Type'].isna().sum()\n",
    "nas_obdate = data['Object Date'].isna().sum()\n",
    "\n",
    "print(\"There are,\", nas_culture, \"missing values in the Culture feature.\")\n",
    "print(\"There are,\", nas_gtype, \"missing values in the Geography Type feature.\")\n",
    "print(\"There are,\", nas_obdate, \"missing values in the Object Date feature.\")"
   ]
  },
  {
   "cell_type": "code",
   "execution_count": 119,
   "metadata": {},
   "outputs": [
    {
     "name": "stdout",
     "output_type": "stream",
     "text": [
      "<class 'pandas.core.frame.DataFrame'>\n",
      "RangeIndex: 490325 entries, 0 to 490324\n",
      "Data columns (total 43 columns):\n",
      "Object Number              490325 non-null object\n",
      "Is Highlight               490325 non-null bool\n",
      "Is Public Domain           490325 non-null bool\n",
      "Object ID                  490325 non-null int64\n",
      "Department                 490325 non-null object\n",
      "Object Name                486173 non-null object\n",
      "Title                      459242 non-null object\n",
      "Culture                    208797 non-null category\n",
      "Period                     89387 non-null category\n",
      "Dynasty                    23286 non-null object\n",
      "Reign                      11204 non-null object\n",
      "Portfolio                  21944 non-null object\n",
      "Artist Role                282424 non-null object\n",
      "Artist Prefix              97817 non-null object\n",
      "Artist Display Name        284520 non-null object\n",
      "Artist Display Bio         236082 non-null object\n",
      "Artist Suffix              11652 non-null object\n",
      "Artist Alpha Sort          284487 non-null object\n",
      "Artist Nationality         193586 non-null object\n",
      "Artist Begin Date          238185 non-null object\n",
      "Artist End Date            235495 non-null object\n",
      "Object Date                475258 non-null object\n",
      "Object Begin Date          490325 non-null int64\n",
      "Object End Date            490325 non-null int64\n",
      "Medium                     482766 non-null object\n",
      "Dimensions                 413597 non-null object\n",
      "Credit Line                489545 non-null object\n",
      "Geography Type             60230 non-null category\n",
      "City                       32104 non-null object\n",
      "State                      2811 non-null object\n",
      "County                     8558 non-null object\n",
      "Country                    76662 non-null object\n",
      "Region                     31820 non-null object\n",
      "Subregion                  22156 non-null object\n",
      "Locale                     15565 non-null object\n",
      "Locus                      7332 non-null object\n",
      "Excavation                 15967 non-null object\n",
      "River                      2098 non-null object\n",
      "Classification             433788 non-null object\n",
      "Rights and Reproduction    24476 non-null object\n",
      "Link Resource              490325 non-null object\n",
      "Metadata Date              490325 non-null object\n",
      "Repository                 490325 non-null object\n",
      "dtypes: bool(2), category(3), int64(3), object(35)\n",
      "memory usage: 146.4+ MB\n"
     ]
    },
    {
     "data": {
      "text/plain": [
       "None"
      ]
     },
     "metadata": {},
     "output_type": "display_data"
    }
   ],
   "source": [
    "# Now lets convert them to a proper type.\n",
    "\n",
    "data['Culture'] = data['Culture'].astype('category')\n",
    "data['Geography Type'] = data['Geography Type'].astype('category')\n",
    "data['Period'] = data['Period'].astype('category')\n",
    "\n",
    "\n",
    "display(data.info())"
   ]
  },
  {
   "cell_type": "code",
   "execution_count": 120,
   "metadata": {},
   "outputs": [
    {
     "name": "stdout",
     "output_type": "stream",
     "text": [
      "There are, 0 missing values in the Object Date feature.\n"
     ]
    }
   ],
   "source": [
    "# Now lets add values to the Obejct Date feature using Obejct Begin Date and End Date.\n",
    "\n",
    "data['Object Date'].fillna(data['Object Begin Date'].map(str) + '-' + data['Object End Date'].map(str), inplace = True)\n",
    "\n",
    "nas_obdate = data['Object Date'].isna().sum()\n",
    "print(\"There are,\", nas_obdate, \"missing values in the Object Date feature.\")"
   ]
  }
 ],
 "metadata": {
  "kernelspec": {
   "display_name": "Python 3",
   "language": "python",
   "name": "python3"
  },
  "language_info": {
   "codemirror_mode": {
    "name": "ipython",
    "version": 3
   },
   "file_extension": ".py",
   "mimetype": "text/x-python",
   "name": "python",
   "nbconvert_exporter": "python",
   "pygments_lexer": "ipython3",
   "version": "3.7.1"
  }
 },
 "nbformat": 4,
 "nbformat_minor": 2
}
