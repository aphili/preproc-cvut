{
 "cells": [
  {
   "cell_type": "markdown",
   "metadata": {},
   "source": [
    "## Finishing the task (a.k.a homework)\n",
    "\n",
    "Try to improve the performance of a classifier on `data` with the following conditions:\n",
    "\n",
    "1. use binning (on features of your choice, with your choice of parameters) and comment on its effects on classification\n",
    "1. use at least 2 other preprocessing techniques (your choice!) on the data set and comment the classification results\n",
    "1. run all classification test at least twice - once for unbalanced original data, once for balanced data (choose a balancing technique), compare those results (give a comment)"
   ]
  },
  {
   "cell_type": "code",
   "execution_count": 25,
   "metadata": {},
   "outputs": [],
   "source": [
    "import numpy as np\n",
    "import pandas as pd\n",
    "\n",
    "from scipy.stats import norm, ttest_ind\n",
    "from scipy.optimize import minimize_scalar\n",
    "\n",
    "from sklearn.model_selection import train_test_split, cross_val_score\n",
    "from sklearn.feature_selection import f_regression, mutual_info_regression, RFECV\n",
    "from sklearn.kernel_ridge import KernelRidge\n",
    "from sklearn.linear_model import LinearRegression, Ridge\n",
    "from sklearn.metrics import mean_squared_log_error, make_scorer, mean_squared_error, auc\n",
    "from sklearn import preprocessing\n",
    "from sklearn.neighbors import KNeighborsClassifier\n",
    "from sklearn.metrics import accuracy_score\n",
    "from sklearn import model_selection, linear_model, metrics, preprocessing, feature_selection\n",
    "from sklearn.preprocessing import StandardScaler\n",
    "from sklearn.preprocessing import MinMaxScaler\n",
    "\n",
    "import matplotlib\n",
    "import matplotlib.pyplot as plt\n",
    "import seaborn as sns\n",
    "\n",
    "\n",
    "%matplotlib inline"
   ]
  },
  {
   "cell_type": "markdown",
   "metadata": {},
   "source": [
    "### The data"
   ]
  },
  {
   "cell_type": "code",
   "execution_count": 6,
   "metadata": {},
   "outputs": [],
   "source": [
    "data = pd.read_csv('default_of_credit_card_clients.csv',sep=';') #Yeh, I. C., & Lien, C. H. (2009). The comparisons of data mining techniques for the predictive accuracy of probability of default of credit card clients. Expert Systems with Applications, 36(2), 2473-2480.\n",
    "data.describe() #data description: see https://archive.ics.uci.edu/ml/datasets/default+of+credit+card+clients\n",
    "\n",
    "data_copy = data.copy()"
   ]
  },
  {
   "cell_type": "markdown",
   "metadata": {},
   "source": [
    "### 1) Use binning (on features of your choice, with your choice of parameters) and comment on its effects on classification\n",
    "\n",
    "\n",
    "- X1: Amount of the given credit (NT dollar): it includes both the individual consumer credit and his/her family (supplementary) credit.\n",
    "- X2: Gender (1 = male; 2 = female).\n",
    "- X3: Education (1 = graduate school; 2 = university; 3 = high school; 4 = others).\n",
    "- X4: Marital status (1 = married; 2 = single; 3 = others).\n",
    "- X5: Age (year).\n",
    "- X6 - X11: History of past payment. We tracked the past monthly payment records (from April to September, 2005) as follows: X6 = the repayment status in September, 2005; X7 = the repayment status in August, 2005; . . .;X11 = the repayment status in April, 2005. The measurement scale for the repayment status is: -1 = pay duly; 1 = payment delay for one month; 2 = payment delay for two months; . . .; 8 = payment delay for eight months; 9 = payment delay for nine months and above.\n",
    "- X12-X17: Amount of bill statement (NT dollar). X12 = amount of bill statement in September, 2005; X13 = amount of bill statement in August, 2005; . . .; X17 = amount of bill statement in April, 2005.\n",
    "- X18-X23: Amount of previous payment (NT dollar). X18 = amount paid in September, 2005; X19 = amount paid in August, 2005; . . .;X23 = amount paid in April, 2005. \n",
    "\n",
    "#### Let's use binning in order to improve the performance of the KNN classifier.\n",
    "\n",
    "We will focus on the features, because they seem pretty easy to track and to monitor : \n",
    "- X1: Amount of the given credit\n",
    "- X5: Age (year) "
   ]
  },
  {
   "cell_type": "code",
   "execution_count": 7,
   "metadata": {},
   "outputs": [
    {
     "data": {
      "text/plain": [
       "count      30000.000000\n",
       "mean      167484.322667\n",
       "std       129747.661567\n",
       "min        10000.000000\n",
       "25%        50000.000000\n",
       "50%       140000.000000\n",
       "75%       240000.000000\n",
       "max      1000000.000000\n",
       "Name: X1, dtype: float64"
      ]
     },
     "metadata": {},
     "output_type": "display_data"
    },
    {
     "data": {
      "text/plain": [
       "count    30000.000000\n",
       "mean        35.485500\n",
       "std          9.217904\n",
       "min         21.000000\n",
       "25%         28.000000\n",
       "50%         34.000000\n",
       "75%         41.000000\n",
       "max         79.000000\n",
       "Name: X5, dtype: float64"
      ]
     },
     "metadata": {},
     "output_type": "display_data"
    }
   ],
   "source": [
    "features = ['X1', 'X5']\n",
    "results = []\n",
    "\n",
    "#Lets get some information regarding these two features before binning\n",
    "for i in features: \n",
    "    display(data[i].describe())"
   ]
  },
  {
   "cell_type": "code",
   "execution_count": 8,
   "metadata": {},
   "outputs": [],
   "source": [
    "# X1's range is 10³ - 10⁶ \n",
    "# Just to try it out, lets use the quantile based binning because we could create 10 intervals from 10000-1000000 quantile binning may be more efficient here.\n",
    "\n",
    "labels_X1 = []\n",
    "for y in range(1, 11):\n",
    "        labels_X1.append(y)\n",
    "\n",
    "binned_X1 = pd.qcut(data['X1'], 10, labels = labels_X1)\n",
    "\n",
    "# X5's range is 21 - 79, so we could create a bin like (20-30, 30-40, 40-50, 50-60, 60-70, 70-80).\n",
    "bin_age = pd.IntervalIndex.from_tuples([(20, 30), (30, 40), (40, 50), (50, 60), (60, 70), (70, 80)])\n",
    "\n",
    "labels_X5 = []\n",
    "for k in range(1, 7):\n",
    "        labels_X5.append(k)\n",
    "        \n",
    "binned_X5 = pd.cut(data['X5'], 6, labels = labels_X5)"
   ]
  },
  {
   "cell_type": "code",
   "execution_count": 9,
   "metadata": {},
   "outputs": [],
   "source": [
    "def knn_clf(mydata, cols):\n",
    "    \n",
    "    #Removing the feature from the dataset\n",
    "    X = mydata.drop([cols], 1)\n",
    "    #Isolating the feature\n",
    "    y = mydata[cols]\n",
    "    \n",
    "    # split into train and test\n",
    "    X_train, X_test, y_train, y_test = train_test_split(X, y)\n",
    "\n",
    "    #Instantiate the model with 3 neighbors. \n",
    "    knn = KNeighborsClassifier(n_neighbors=3)\n",
    "\n",
    "    # Fit the model on the training data.\n",
    "    knn.fit(X_train, y_train)\n",
    "\n",
    "    #Predict the response\n",
    "    pred = knn.predict(X_test)\n",
    "\n",
    "    #Evaluate the accuracy\n",
    "\n",
    "    accur = accuracy_score(y_test, pred)\n",
    "    results.append(accur)\n",
    "    \n",
    "    print(\"The accuracy for the feature\", cols, \"is :\", accur)"
   ]
  },
  {
   "cell_type": "code",
   "execution_count": 22,
   "metadata": {},
   "outputs": [
    {
     "name": "stdout",
     "output_type": "stream",
     "text": [
      "The accuracy for the feature X1 is : 0.22053333333333333\n",
      "The accuracy for the feature X5 is : 0.052\n"
     ]
    }
   ],
   "source": [
    "# Run the accuracy test on our selected features\n",
    "for i in features:\n",
    "    knn_clf(data, i)"
   ]
  },
  {
   "cell_type": "code",
   "execution_count": 54,
   "metadata": {},
   "outputs": [
    {
     "name": "stdout",
     "output_type": "stream",
     "text": [
      "The accuracy for the feature X1 is : 0.3184\n",
      "The accuracy for the feature X5 is : 0.35733333333333334\n"
     ]
    }
   ],
   "source": [
    "data_copy['X1'] = binned_X1.astype(np.int64)\n",
    "data_copy['X5'] = binned_X5.astype(np.int64)\n",
    "\n",
    "# Run the accuracy test on our selected features\n",
    "for i in features:\n",
    "    knn_clf(data_copy, i)"
   ]
  },
  {
   "cell_type": "code",
   "execution_count": 47,
   "metadata": {},
   "outputs": [
    {
     "name": "stdout",
     "output_type": "stream",
     "text": [
      "The accuracy is better after binning especially for the feature X5\n"
     ]
    }
   ],
   "source": [
    "print(\"The accuracy is better after binning especially for the feature X5\")"
   ]
  },
  {
   "cell_type": "markdown",
   "metadata": {},
   "source": [
    "### 2) Use at least 2 other preprocessing techniques (your choice!) on the data set and comment the classification results\n",
    "\n",
    "Here we will use : \n",
    "- Standardization\n",
    "- Min-max normalization"
   ]
  },
  {
   "cell_type": "code",
   "execution_count": 48,
   "metadata": {},
   "outputs": [],
   "source": [
    "def knn_clf_stand(mydata, cols, i):\n",
    "    \n",
    "    #Removing the feature from the dataset\n",
    "    X = mydata.drop([cols], 1)\n",
    "    X = StandardScaler().fit_transform(X)\n",
    "    #Isolating the feature\n",
    "    y = mydata[cols]\n",
    "    \n",
    "    # split into train and test\n",
    "    X_train, X_test, y_train, y_test = train_test_split(X, y)\n",
    "\n",
    "    #Instantiate the model with 3 neighbors. \n",
    "    knn = KNeighborsClassifier(n_neighbors=3)\n",
    "\n",
    "    # Fit the model on the training data.\n",
    "    knn.fit(X_train, y_train)\n",
    "\n",
    "    #Predict the response\n",
    "    pred = knn.predict(X_test)\n",
    "\n",
    "    #Evaluate the accuracy\n",
    "\n",
    "    accur = accuracy_score(y_test, pred)\n",
    "    results.append(accur)\n",
    "    \n",
    "    if(i==0):\n",
    "        print(\"The basic accuracy for the feature\", cols, \"is :\", accur)\n",
    "    else:\n",
    "        print(\"The accuracy with binning for the feature\", cols, \"is :\", accur)\n"
   ]
  },
  {
   "cell_type": "code",
   "execution_count": 49,
   "metadata": {},
   "outputs": [
    {
     "name": "stderr",
     "output_type": "stream",
     "text": [
      "/home/andrew/.local/lib/python3.7/site-packages/sklearn/preprocessing/data.py:617: DataConversionWarning: Data with input dtype int64 were all converted to float64 by StandardScaler.\n",
      "  return self.partial_fit(X, y)\n",
      "/home/andrew/.local/lib/python3.7/site-packages/sklearn/base.py:462: DataConversionWarning: Data with input dtype int64 were all converted to float64 by StandardScaler.\n",
      "  return self.fit(X, **fit_params).transform(X)\n"
     ]
    },
    {
     "name": "stdout",
     "output_type": "stream",
     "text": [
      "The basic accuracy for the feature X1 is : 0.14493333333333333\n"
     ]
    },
    {
     "name": "stderr",
     "output_type": "stream",
     "text": [
      "/home/andrew/.local/lib/python3.7/site-packages/sklearn/preprocessing/data.py:617: DataConversionWarning: Data with input dtype int64 were all converted to float64 by StandardScaler.\n",
      "  return self.partial_fit(X, y)\n",
      "/home/andrew/.local/lib/python3.7/site-packages/sklearn/base.py:462: DataConversionWarning: Data with input dtype int64 were all converted to float64 by StandardScaler.\n",
      "  return self.fit(X, **fit_params).transform(X)\n"
     ]
    },
    {
     "name": "stdout",
     "output_type": "stream",
     "text": [
      "The basic accuracy for the feature X5 is : 0.0652\n"
     ]
    },
    {
     "name": "stderr",
     "output_type": "stream",
     "text": [
      "/home/andrew/.local/lib/python3.7/site-packages/sklearn/preprocessing/data.py:617: DataConversionWarning: Data with input dtype int64 were all converted to float64 by StandardScaler.\n",
      "  return self.partial_fit(X, y)\n",
      "/home/andrew/.local/lib/python3.7/site-packages/sklearn/base.py:462: DataConversionWarning: Data with input dtype int64 were all converted to float64 by StandardScaler.\n",
      "  return self.fit(X, **fit_params).transform(X)\n"
     ]
    },
    {
     "name": "stdout",
     "output_type": "stream",
     "text": [
      "The accuracy with binning for the feature X1 is : 0.26213333333333333\n"
     ]
    },
    {
     "name": "stderr",
     "output_type": "stream",
     "text": [
      "/home/andrew/.local/lib/python3.7/site-packages/sklearn/preprocessing/data.py:617: DataConversionWarning: Data with input dtype int64 were all converted to float64 by StandardScaler.\n",
      "  return self.partial_fit(X, y)\n",
      "/home/andrew/.local/lib/python3.7/site-packages/sklearn/base.py:462: DataConversionWarning: Data with input dtype int64 were all converted to float64 by StandardScaler.\n",
      "  return self.fit(X, **fit_params).transform(X)\n"
     ]
    },
    {
     "name": "stdout",
     "output_type": "stream",
     "text": [
      "The accuracy with binning for the feature X5 is : 0.4376\n"
     ]
    }
   ],
   "source": [
    "# Run the accuracy test on our selected features\n",
    "for i in features:\n",
    "    knn_clf_stand(data, i, 0)\n",
    "    \n",
    "# Run the accuracy test on our selected features\n",
    "for i in features:\n",
    "    knn_clf_stand(data_copy, i, 1)"
   ]
  },
  {
   "cell_type": "code",
   "execution_count": 36,
   "metadata": {},
   "outputs": [],
   "source": [
    "def knn_clf_norm(mydata, cols, i):\n",
    "    \n",
    "    #Removing the feature from the dataset\n",
    "    X = mydata.drop([cols], 1)\n",
    "    X = MinMaxScaler().fit_transform(X)\n",
    "    #Isolating the feature\n",
    "    y = mydata[cols]\n",
    "    \n",
    "    # split into train and test\n",
    "    X_train, X_test, y_train, y_test = train_test_split(X, y)\n",
    "\n",
    "    #Instantiate the model with 3 neighbors. \n",
    "    knn = KNeighborsClassifier(n_neighbors=3)\n",
    "\n",
    "    # Fit the model on the training data.\n",
    "    knn.fit(X_train, y_train)\n",
    "\n",
    "    #Predict the response\n",
    "    pred = knn.predict(X_test)\n",
    "\n",
    "    #Evaluate the accuracy\n",
    "\n",
    "    accur = accuracy_score(y_test, pred)\n",
    "    results.append(accur)\n",
    "    if(i==0):\n",
    "        print(\"The basic accuracy for the feature\", cols, \"is :\", accur)\n",
    "    else:\n",
    "        print(\"The accuracy with binning for the feature\", cols, \"is :\", accur)\n"
   ]
  },
  {
   "cell_type": "code",
   "execution_count": 51,
   "metadata": {},
   "outputs": [
    {
     "name": "stderr",
     "output_type": "stream",
     "text": [
      "/home/andrew/.local/lib/python3.7/site-packages/sklearn/preprocessing/data.py:323: DataConversionWarning: Data with input dtype int64 were all converted to float64 by MinMaxScaler.\n",
      "  return self.partial_fit(X, y)\n"
     ]
    },
    {
     "name": "stdout",
     "output_type": "stream",
     "text": [
      "The basic accuracy for the feature X1 is : 0.12333333333333334\n"
     ]
    },
    {
     "name": "stderr",
     "output_type": "stream",
     "text": [
      "/home/andrew/.local/lib/python3.7/site-packages/sklearn/preprocessing/data.py:323: DataConversionWarning: Data with input dtype int64 were all converted to float64 by MinMaxScaler.\n",
      "  return self.partial_fit(X, y)\n"
     ]
    },
    {
     "name": "stdout",
     "output_type": "stream",
     "text": [
      "The basic accuracy for the feature X5 is : 0.06493333333333333\n"
     ]
    },
    {
     "name": "stderr",
     "output_type": "stream",
     "text": [
      "/home/andrew/.local/lib/python3.7/site-packages/sklearn/preprocessing/data.py:323: DataConversionWarning: Data with input dtype int64 were all converted to float64 by MinMaxScaler.\n",
      "  return self.partial_fit(X, y)\n"
     ]
    },
    {
     "name": "stdout",
     "output_type": "stream",
     "text": [
      "The accuracy with binning for the feature X1 is : 0.2538666666666667\n"
     ]
    },
    {
     "name": "stderr",
     "output_type": "stream",
     "text": [
      "/home/andrew/.local/lib/python3.7/site-packages/sklearn/preprocessing/data.py:323: DataConversionWarning: Data with input dtype int64 were all converted to float64 by MinMaxScaler.\n",
      "  return self.partial_fit(X, y)\n"
     ]
    },
    {
     "name": "stdout",
     "output_type": "stream",
     "text": [
      "The accuracy with binning for the feature X5 is : 0.4388\n"
     ]
    }
   ],
   "source": [
    "# Run the accuracy test on our selected features\n",
    "for i in features:\n",
    "    knn_clf_norm(data, i, 0)\n",
    "\n",
    "for i in features:\n",
    "    knn_clf_norm(data_copy, i, 1)"
   ]
  },
  {
   "cell_type": "code",
   "execution_count": 55,
   "metadata": {},
   "outputs": [
    {
     "name": "stdout",
     "output_type": "stream",
     "text": [
      "The accuracy is better for the X5 feature with both of the above preprocessing techniques, but is lower for the X1 feature.\n"
     ]
    }
   ],
   "source": [
    "print(\"The accuracy is better for the X5 feature with both of the above preprocessing techniques, but is lower for the X1 feature.\")"
   ]
  }
 ],
 "metadata": {
  "kernelspec": {
   "display_name": "Python 3",
   "language": "python",
   "name": "python3"
  },
  "language_info": {
   "codemirror_mode": {
    "name": "ipython",
    "version": 3
   },
   "file_extension": ".py",
   "mimetype": "text/x-python",
   "name": "python",
   "nbconvert_exporter": "python",
   "pygments_lexer": "ipython3",
   "version": "3.7.1"
  }
 },
 "nbformat": 4,
 "nbformat_minor": 1
}
