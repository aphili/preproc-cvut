{
 "cells": [
  {
   "cell_type": "markdown",
   "metadata": {},
   "source": [
    "# Homework nr. 3 - features transformation & selection (deadline 13/12/2018)\n",
    "\n",
    "In short, the main task is to play with transformations and feature selection methods in order to obtain the best results for linear regression model predicting house sale prices.\n",
    "  \n",
    "> The instructions are not given in details: It is up to you to come up with ideas on how to fulfill the particular tasks as best you can. ;)\n",
    "\n",
    "## What are you supposed to do\n",
    "\n",
    "Your aim is to optimize the _RMSLE_ (see the note below) of the linear regression estimator (=our prediction model) of the observed sale prices.\n",
    "\n",
    "### Instructions:\n",
    "\n",
    "  1. Download the dataset from the course pages (hw3_data.csv, hw3_data_description.txt). It corresponds to [this Kaggle competition](https://www.kaggle.com/c/house-prices-advanced-regression-techniques).\n",
    "  2. Split the dataset into train & test part exactly as we did in the tutorial.\n",
    "  3. Transform the features properly (don't forget the target variable).\n",
    "  4. Try to find the best subset of features.\n",
    "  5. Compare your results with the [Kaggle leaderboard](https://www.kaggle.com/c/house-prices-advanced-regression-techniques/leaderboard). You should be able to reach approximately the top 20% there.\n",
    "  \n",
    "Give comments on each step of your solution, with short explanations of your choices.\n",
    "\n",
    "  \n",
    "**Note**: _RMSLE_ is a Root-Mean-Squared-Error (RMSE) between the logarithm of the predicted value and the logarithm of the observed sale prices.\n",
    "\n",
    "\n",
    "## Comments\n",
    "\n",
    "  * Please follow the instructions from https://courses.fit.cvut.cz/MI-PDD/homeworks/index.html.\n",
    "  * If the reviewing teacher is not satisfied, he can give you another chance to rework your homework and to obtain more points."
   ]
  },
  {
   "cell_type": "markdown",
   "metadata": {},
   "source": [
    "## Answers"
   ]
  },
  {
   "cell_type": "markdown",
   "metadata": {},
   "source": [
    "### 2) Split the dataset into train & test part exactly as we did in the tutorial.\n"
   ]
  },
  {
   "cell_type": "code",
   "execution_count": 255,
   "metadata": {},
   "outputs": [],
   "source": [
    "import numpy as np\n",
    "import pandas as pd\n",
    "\n",
    "from scipy import stats, optimize\n",
    "\n",
    "from sklearn import model_selection, linear_model, metrics, preprocessing, feature_selection\n",
    "\n",
    "import matplotlib\n",
    "import matplotlib.pyplot as plt\n",
    "import seaborn as sns\n",
    "\n",
    "%matplotlib inline"
   ]
  },
  {
   "cell_type": "code",
   "execution_count": 256,
   "metadata": {
    "scrolled": true
   },
   "outputs": [
    {
     "name": "stdout",
     "output_type": "stream",
     "text": [
      "<class 'pandas.core.frame.DataFrame'>\n",
      "RangeIndex: 1460 entries, 0 to 1459\n",
      "Data columns (total 81 columns):\n",
      "Id               1460 non-null int64\n",
      "MSSubClass       1460 non-null int64\n",
      "MSZoning         1460 non-null object\n",
      "LotFrontage      1201 non-null float64\n",
      "LotArea          1460 non-null int64\n",
      "Street           1460 non-null object\n",
      "Alley            91 non-null object\n",
      "LotShape         1460 non-null object\n",
      "LandContour      1460 non-null object\n",
      "Utilities        1460 non-null object\n",
      "LotConfig        1460 non-null object\n",
      "LandSlope        1460 non-null object\n",
      "Neighborhood     1460 non-null object\n",
      "Condition1       1460 non-null object\n",
      "Condition2       1460 non-null object\n",
      "BldgType         1460 non-null object\n",
      "HouseStyle       1460 non-null object\n",
      "OverallQual      1460 non-null int64\n",
      "OverallCond      1460 non-null int64\n",
      "YearBuilt        1460 non-null int64\n",
      "YearRemodAdd     1460 non-null int64\n",
      "RoofStyle        1460 non-null object\n",
      "RoofMatl         1460 non-null object\n",
      "Exterior1st      1460 non-null object\n",
      "Exterior2nd      1460 non-null object\n",
      "MasVnrType       1452 non-null object\n",
      "MasVnrArea       1452 non-null float64\n",
      "ExterQual        1460 non-null object\n",
      "ExterCond        1460 non-null object\n",
      "Foundation       1460 non-null object\n",
      "BsmtQual         1423 non-null object\n",
      "BsmtCond         1423 non-null object\n",
      "BsmtExposure     1422 non-null object\n",
      "BsmtFinType1     1423 non-null object\n",
      "BsmtFinSF1       1460 non-null int64\n",
      "BsmtFinType2     1422 non-null object\n",
      "BsmtFinSF2       1460 non-null int64\n",
      "BsmtUnfSF        1460 non-null int64\n",
      "TotalBsmtSF      1460 non-null int64\n",
      "Heating          1460 non-null object\n",
      "HeatingQC        1460 non-null object\n",
      "CentralAir       1460 non-null object\n",
      "Electrical       1459 non-null object\n",
      "1stFlrSF         1460 non-null int64\n",
      "2ndFlrSF         1460 non-null int64\n",
      "LowQualFinSF     1460 non-null int64\n",
      "GrLivArea        1460 non-null int64\n",
      "BsmtFullBath     1460 non-null int64\n",
      "BsmtHalfBath     1460 non-null int64\n",
      "FullBath         1460 non-null int64\n",
      "HalfBath         1460 non-null int64\n",
      "BedroomAbvGr     1460 non-null int64\n",
      "KitchenAbvGr     1460 non-null int64\n",
      "KitchenQual      1460 non-null object\n",
      "TotRmsAbvGrd     1460 non-null int64\n",
      "Functional       1460 non-null object\n",
      "Fireplaces       1460 non-null int64\n",
      "FireplaceQu      770 non-null object\n",
      "GarageType       1379 non-null object\n",
      "GarageYrBlt      1379 non-null float64\n",
      "GarageFinish     1379 non-null object\n",
      "GarageCars       1460 non-null int64\n",
      "GarageArea       1460 non-null int64\n",
      "GarageQual       1379 non-null object\n",
      "GarageCond       1379 non-null object\n",
      "PavedDrive       1460 non-null object\n",
      "WoodDeckSF       1460 non-null int64\n",
      "OpenPorchSF      1460 non-null int64\n",
      "EnclosedPorch    1460 non-null int64\n",
      "3SsnPorch        1460 non-null int64\n",
      "ScreenPorch      1460 non-null int64\n",
      "PoolArea         1460 non-null int64\n",
      "PoolQC           7 non-null object\n",
      "Fence            281 non-null object\n",
      "MiscFeature      54 non-null object\n",
      "MiscVal          1460 non-null int64\n",
      "MoSold           1460 non-null int64\n",
      "YrSold           1460 non-null int64\n",
      "SaleType         1460 non-null object\n",
      "SaleCondition    1460 non-null object\n",
      "SalePrice        1460 non-null int64\n",
      "dtypes: float64(3), int64(35), object(43)\n",
      "memory usage: 924.0+ KB\n"
     ]
    }
   ],
   "source": [
    "#importing the CSV that we will be working with and then looking at the data it contains\n",
    "pd.options.display.max_columns = None\n",
    "data = pd.read_csv('hw3_data.csv')\n",
    "data.info()"
   ]
  },
  {
   "cell_type": "markdown",
   "metadata": {},
   "source": [
    "#### Before splitting that dataset, it should be cleaned first.\n",
    "This is what we are going to do in the following cells."
   ]
  },
  {
   "cell_type": "code",
   "execution_count": 257,
   "metadata": {
    "scrolled": true
   },
   "outputs": [],
   "source": [
    "# As it has been done in the tutorial, we are going to convert all object values to categorical format\n",
    "data[data.select_dtypes(include=['object']).columns] = data.select_dtypes(include=['object']).apply(pd.Series.astype, dtype='category')\n",
    "# Then we fill all the NaN with 0\n",
    "data.loc[:,data.select_dtypes(include=['float64']).columns] = data.loc[:,data.select_dtypes(include=['float64']).columns].fillna(0)"
   ]
  },
  {
   "cell_type": "code",
   "execution_count": 258,
   "metadata": {},
   "outputs": [
    {
     "name": "stdout",
     "output_type": "stream",
     "text": [
      "Are there any missing values : False\n"
     ]
    },
    {
     "data": {
      "text/plain": [
       "uint8      252\n",
       "float64     38\n",
       "dtype: int64"
      ]
     },
     "execution_count": 258,
     "metadata": {},
     "output_type": "execute_result"
    }
   ],
   "source": [
    "data.columns[data.isnull().any()]\n",
    "# df.select_dtypes(include=['category']).columns\n",
    "\n",
    "# Convert categorical variables to indicators and create new data\n",
    "data = pd.get_dummies(data)\n",
    "\n",
    "# check that there are no missings now\n",
    "print(\"Are there any missing values :\", data.isnull().any().any())\n",
    "\n",
    "#Let us also convert all non-indicator values to float64 - which would be useful later.\n",
    "data[data.select_dtypes(['float16', 'float64', 'int64']).columns] = data[data.select_dtypes(['float16', 'float64', 'int64']).columns].astype('float64')\n",
    "\n",
    "data.dtypes.value_counts()"
   ]
  },
  {
   "cell_type": "code",
   "execution_count": 259,
   "metadata": {},
   "outputs": [
    {
     "name": "stdout",
     "output_type": "stream",
     "text": [
      "Shape of the data: (1460, 320)\n"
     ]
    }
   ],
   "source": [
    "# Let us create new features as square roots of Area features - i.e. so they correspond to diameters of circles having the same area\n",
    "# We also add indicators of zero values (usually missings) there\n",
    "for column in data.filter(regex='Area|SF', axis=1).columns:  # SF - square foot which means area\n",
    "    data['Has' + column] = (data[column] > 0).replace({True: 1, False: 0}).astype('uint8')\n",
    "    data['Sqrt' + column] = np.sqrt(data[column])\n",
    "\n",
    "print('Shape of the data:', data.shape)"
   ]
  },
  {
   "cell_type": "code",
   "execution_count": 260,
   "metadata": {},
   "outputs": [
    {
     "data": {
      "text/html": [
       "<div>\n",
       "<style scoped>\n",
       "    .dataframe tbody tr th:only-of-type {\n",
       "        vertical-align: middle;\n",
       "    }\n",
       "\n",
       "    .dataframe tbody tr th {\n",
       "        vertical-align: top;\n",
       "    }\n",
       "\n",
       "    .dataframe thead th {\n",
       "        text-align: right;\n",
       "    }\n",
       "</style>\n",
       "<table border=\"1\" class=\"dataframe\">\n",
       "  <thead>\n",
       "    <tr style=\"text-align: right;\">\n",
       "      <th></th>\n",
       "      <th>LotArea</th>\n",
       "      <th>MasVnrArea</th>\n",
       "      <th>GrLivArea</th>\n",
       "      <th>GarageArea</th>\n",
       "      <th>PoolArea</th>\n",
       "      <th>HasLotArea</th>\n",
       "      <th>SqrtLotArea</th>\n",
       "      <th>HasMasVnrArea</th>\n",
       "      <th>SqrtMasVnrArea</th>\n",
       "      <th>HasGrLivArea</th>\n",
       "      <th>SqrtGrLivArea</th>\n",
       "      <th>HasGarageArea</th>\n",
       "      <th>SqrtGarageArea</th>\n",
       "      <th>HasPoolArea</th>\n",
       "      <th>SqrtPoolArea</th>\n",
       "    </tr>\n",
       "  </thead>\n",
       "  <tbody>\n",
       "    <tr>\n",
       "      <th>0</th>\n",
       "      <td>8450.0</td>\n",
       "      <td>196.0</td>\n",
       "      <td>1710.0</td>\n",
       "      <td>548.0</td>\n",
       "      <td>0.0</td>\n",
       "      <td>1</td>\n",
       "      <td>91.923882</td>\n",
       "      <td>1</td>\n",
       "      <td>14.000000</td>\n",
       "      <td>1</td>\n",
       "      <td>41.352146</td>\n",
       "      <td>1</td>\n",
       "      <td>23.409400</td>\n",
       "      <td>0</td>\n",
       "      <td>0.0</td>\n",
       "    </tr>\n",
       "    <tr>\n",
       "      <th>1</th>\n",
       "      <td>9600.0</td>\n",
       "      <td>0.0</td>\n",
       "      <td>1262.0</td>\n",
       "      <td>460.0</td>\n",
       "      <td>0.0</td>\n",
       "      <td>1</td>\n",
       "      <td>97.979590</td>\n",
       "      <td>0</td>\n",
       "      <td>0.000000</td>\n",
       "      <td>1</td>\n",
       "      <td>35.524639</td>\n",
       "      <td>1</td>\n",
       "      <td>21.447611</td>\n",
       "      <td>0</td>\n",
       "      <td>0.0</td>\n",
       "    </tr>\n",
       "    <tr>\n",
       "      <th>2</th>\n",
       "      <td>11250.0</td>\n",
       "      <td>162.0</td>\n",
       "      <td>1786.0</td>\n",
       "      <td>608.0</td>\n",
       "      <td>0.0</td>\n",
       "      <td>1</td>\n",
       "      <td>106.066017</td>\n",
       "      <td>1</td>\n",
       "      <td>12.727922</td>\n",
       "      <td>1</td>\n",
       "      <td>42.261093</td>\n",
       "      <td>1</td>\n",
       "      <td>24.657656</td>\n",
       "      <td>0</td>\n",
       "      <td>0.0</td>\n",
       "    </tr>\n",
       "    <tr>\n",
       "      <th>3</th>\n",
       "      <td>9550.0</td>\n",
       "      <td>0.0</td>\n",
       "      <td>1717.0</td>\n",
       "      <td>642.0</td>\n",
       "      <td>0.0</td>\n",
       "      <td>1</td>\n",
       "      <td>97.724101</td>\n",
       "      <td>0</td>\n",
       "      <td>0.000000</td>\n",
       "      <td>1</td>\n",
       "      <td>41.436699</td>\n",
       "      <td>1</td>\n",
       "      <td>25.337719</td>\n",
       "      <td>0</td>\n",
       "      <td>0.0</td>\n",
       "    </tr>\n",
       "    <tr>\n",
       "      <th>4</th>\n",
       "      <td>14260.0</td>\n",
       "      <td>350.0</td>\n",
       "      <td>2198.0</td>\n",
       "      <td>836.0</td>\n",
       "      <td>0.0</td>\n",
       "      <td>1</td>\n",
       "      <td>119.415242</td>\n",
       "      <td>1</td>\n",
       "      <td>18.708287</td>\n",
       "      <td>1</td>\n",
       "      <td>46.882833</td>\n",
       "      <td>1</td>\n",
       "      <td>28.913665</td>\n",
       "      <td>0</td>\n",
       "      <td>0.0</td>\n",
       "    </tr>\n",
       "  </tbody>\n",
       "</table>\n",
       "</div>"
      ],
      "text/plain": [
       "   LotArea  MasVnrArea  GrLivArea  GarageArea  PoolArea  HasLotArea  \\\n",
       "0   8450.0       196.0     1710.0       548.0       0.0           1   \n",
       "1   9600.0         0.0     1262.0       460.0       0.0           1   \n",
       "2  11250.0       162.0     1786.0       608.0       0.0           1   \n",
       "3   9550.0         0.0     1717.0       642.0       0.0           1   \n",
       "4  14260.0       350.0     2198.0       836.0       0.0           1   \n",
       "\n",
       "   SqrtLotArea  HasMasVnrArea  SqrtMasVnrArea  HasGrLivArea  SqrtGrLivArea  \\\n",
       "0    91.923882              1       14.000000             1      41.352146   \n",
       "1    97.979590              0        0.000000             1      35.524639   \n",
       "2   106.066017              1       12.727922             1      42.261093   \n",
       "3    97.724101              0        0.000000             1      41.436699   \n",
       "4   119.415242              1       18.708287             1      46.882833   \n",
       "\n",
       "   HasGarageArea  SqrtGarageArea  HasPoolArea  SqrtPoolArea  \n",
       "0              1       23.409400            0           0.0  \n",
       "1              1       21.447611            0           0.0  \n",
       "2              1       24.657656            0           0.0  \n",
       "3              1       25.337719            0           0.0  \n",
       "4              1       28.913665            0           0.0  "
      ]
     },
     "execution_count": 260,
     "metadata": {},
     "output_type": "execute_result"
    }
   ],
   "source": [
    "# See the results for Area features\n",
    "data[data.filter(regex='Area', axis=1).columns].head()"
   ]
  },
  {
   "cell_type": "code",
   "execution_count": 261,
   "metadata": {},
   "outputs": [
    {
     "data": {
      "text/plain": [
       "Index(['HasLotArea', 'Has1stFlrSF', 'HasGrLivArea'], dtype='object')"
      ]
     },
     "metadata": {},
     "output_type": "display_data"
    }
   ],
   "source": [
    "# Remove constant features\n",
    "display(data.columns[data.min() == data.max()])\n",
    "data = data[data.columns[data.min() != data.max()]]"
   ]
  },
  {
   "cell_type": "code",
   "execution_count": 262,
   "metadata": {},
   "outputs": [],
   "source": [
    "# Lets apply a logarithm on the SalePrice feature so that we will be able to see the repartition better when plotting it but also get values lower than 1 for RMSE.\n",
    "data['SalePrice'] = np.log(data['SalePrice'])"
   ]
  },
  {
   "cell_type": "code",
   "execution_count": 263,
   "metadata": {},
   "outputs": [
    {
     "data": {
      "text/plain": [
       "<function matplotlib.pyplot.show(*args, **kw)>"
      ]
     },
     "execution_count": 263,
     "metadata": {},
     "output_type": "execute_result"
    },
    {
     "data": {
      "image/png": "[encoded data removed]",
      "text/plain": [
       "<Figure size 432x288 with 1 Axes>"
      ]
     },
     "metadata": {
      "needs_background": "light"
     },
     "output_type": "display_data"
    }
   ],
   "source": [
    "plt.hist(data['SalePrice'])\n",
    "plt.xlabel('Sale Price')\n",
    "plt.ylabel('Frequency')\n",
    "plt.show"
   ]
  },
  {
   "cell_type": "code",
   "execution_count": 264,
   "metadata": {},
   "outputs": [
    {
     "name": "stdout",
     "output_type": "stream",
     "text": [
      "Train:  1095 ; Validation:  365\n"
     ]
    }
   ],
   "source": [
    "# Now that the dataset has been cleaned, as it has been done in the tutorial, now we can split it.\n",
    "dt, dv = model_selection.train_test_split(data, test_size=0.25, random_state=17)\n",
    "dt = dt.copy()\n",
    "dv = dv.copy()\n",
    "print('Train: ', len(dt), '; Validation: ', len(dv))"
   ]
  },
  {
   "cell_type": "code",
   "execution_count": 265,
   "metadata": {},
   "outputs": [],
   "source": [
    "# Since the main task is to obtain better results for the linear regression model, we won't be using the ridge one.\n",
    "\n",
    "def linreg(train, validate, plot = False, train_error = True):\n",
    "    # Data prepare\n",
    "    X = train.drop(['SalePrice'], axis = 1, errors = 'ignore')\n",
    "    y = train.SalePrice\n",
    "    Xv = validate.drop(['SalePrice'], axis = 1, errors = 'ignore')\n",
    "    yv = validate.SalePrice\n",
    "    \n",
    "    # Linear Regression train\n",
    "    clf = linear_model.LinearRegression()\n",
    "    clf.fit(X, y) \n",
    "    \n",
    "    # Print RMSE\n",
    "    print('Linear regression root mean squared validation error:', \n",
    "          np.sqrt(metrics.mean_squared_error(clf.predict(Xv),yv)))\n",
    "    if train_error:\n",
    "        print('Linear regression root mean squared train error:', \n",
    "              np.sqrt(metrics.mean_squared_error(clf.predict(X), y)))\n",
    "    \n",
    "    # Joint Plot\n",
    "    if plot:\n",
    "        sns.jointplot(yv, clf.predict(Xv))"
   ]
  },
  {
   "cell_type": "code",
   "execution_count": 266,
   "metadata": {},
   "outputs": [
    {
     "name": "stdout",
     "output_type": "stream",
     "text": [
      "Linear regression root mean squared validation error: 0.126395492144322\n",
      "Linear regression root mean squared train error: 0.08436294175593727\n"
     ]
    }
   ],
   "source": [
    "# Run both models\n",
    "linreg(dt, dv)"
   ]
  },
  {
   "cell_type": "markdown",
   "metadata": {},
   "source": [
    "### 3) Transform the features properly (don't forget the target variable).\n",
    "\n",
    "Here we will standardize features in order to make them more comparable."
   ]
  },
  {
   "cell_type": "code",
   "execution_count": 267,
   "metadata": {},
   "outputs": [
    {
     "name": "stdout",
     "output_type": "stream",
     "text": [
      "Linear regression root mean squared validation error: 840696132.4387617\n",
      "Linear regression root mean squared train error: 0.21081833885489265\n",
      "\n",
      "Here we are facing the same problem that in the tutorial.\n",
      "The feature transformation using standardization make the linear regression results a lot worse.\n",
      "Normalization make it even worse than standardization.\n"
     ]
    }
   ],
   "source": [
    "# Standardization\n",
    "standard_scaler = preprocessing.StandardScaler()\n",
    "\n",
    "# we rescale only numeric values - not indicators\n",
    "columns = columns.drop('SalePrice', errors = 'ignore')\n",
    "\n",
    "# Prepare values for the transformation\n",
    "columns = dt.select_dtypes(include=['float64']).columns \n",
    "standard_scaler.fit(dt[columns])\n",
    "\n",
    "\n",
    "# Standardization\n",
    "dt_s = dt.copy()\n",
    "dv_s = dv.copy()\n",
    "dt_s[columns] = standard_scaler.transform(dt[columns])\n",
    "dv_s[columns] = standard_scaler.transform(dv[columns])\n",
    "\n",
    "linreg(dt_s, dv_s)\n",
    "\n",
    "print(\"\\nHere we are facing the same problem that in the tutorial.\\nThe feature transformation using standardization make the linear regression results a lot worse.\")\n",
    "print(\"Normalization make it even worse than standardization.\")"
   ]
  },
  {
   "cell_type": "markdown",
   "metadata": {},
   "source": [
    "### 4) Finding the best subset of features.\n",
    "In order to find the best subset of features we will use the correlation approach."
   ]
  },
  {
   "cell_type": "code",
   "execution_count": 268,
   "metadata": {},
   "outputs": [
    {
     "data": {
      "text/plain": [
       "SalePrice         1.000000\n",
       "OverallQual       0.820700\n",
       "SqrtGrLivArea     0.720602\n",
       "GrLivArea         0.694166\n",
       "GarageCars        0.689327\n",
       "GarageArea        0.653478\n",
       "SqrtGarageArea    0.625460\n",
       "Sqrt1stFlrSF      0.616300\n",
       "TotalBsmtSF       0.609998\n",
       "1stFlrSF          0.601991\n",
       "Name: SalePrice, dtype: float64"
      ]
     },
     "metadata": {},
     "output_type": "display_data"
    },
    {
     "data": {
      "text/plain": [
       "SalePrice         1.000000\n",
       "OverallQual       0.810410\n",
       "GrLivArea         0.735184\n",
       "SqrtGrLivArea     0.735184\n",
       "GarageCars        0.694128\n",
       "GarageArea        0.648908\n",
       "SqrtGarageArea    0.648908\n",
       "YearBuilt         0.644751\n",
       "FullBath          0.642719\n",
       "GarageYrBlt       0.632785\n",
       "Name: SalePrice, dtype: float64"
      ]
     },
     "metadata": {},
     "output_type": "display_data"
    }
   ],
   "source": [
    "# Drop Id - we will store all features to drop in the columns_to_remove list\n",
    "columns_to_remove = ['Id']\n",
    "\n",
    "# Correlation matrix Pearson & Spearman\n",
    "corrP = dt.drop(columns_to_remove, axis = 1, errors = 'ignore').corr(method='pearson')\n",
    "corrS = dt.drop(columns_to_remove, axis = 1, errors = 'ignore').corr(method='spearman')\n",
    "\n",
    "# Pearson top 10 with target\n",
    "corrP_cols = corrP.SalePrice.abs().nlargest(10).index\n",
    "display(corrP.SalePrice.loc[corrP_cols])\n",
    "# Spearman top 10 with target\n",
    "corrS_cols = corrS.SalePrice.abs().nlargest(10).index\n",
    "display(corrS.SalePrice.loc[corrS_cols])"
   ]
  },
  {
   "cell_type": "code",
   "execution_count": 278,
   "metadata": {},
   "outputs": [
    {
     "name": "stdout",
     "output_type": "stream",
     "text": [
      "['BsmtHalfBath', 'RoofMatl_ClyTile', 'RoofMatl_Tar&Grv', 'Exterior1st_Plywood', 'Foundation_Stone', 'BsmtFinType2_Rec', 'GarageCond_Gd', 'MiscFeature_Gar2', 'SaleType_CWD', 'SaleType_ConLI', 'SaleCondition_Alloca', 'SqrtBsmtFinSF2']\n"
     ]
    }
   ],
   "source": [
    "# One can remove those with correlation smaller than some treshold.\n",
    "additional_columns = list(corrP.SalePrice[corrP.SalePrice.abs() < 0.01].index)\n",
    "print(additional_columns)\n",
    "\n",
    "# extend columns_to_remove\n",
    "columns_to_remove = list(set(columns_to_remove + additional_columns))"
   ]
  },
  {
   "cell_type": "code",
   "execution_count": 279,
   "metadata": {},
   "outputs": [
    {
     "data": {
      "text/plain": [
       "(1095, 304)"
      ]
     },
     "execution_count": 279,
     "metadata": {},
     "output_type": "execute_result"
    }
   ],
   "source": [
    "# Final removal from all datasets\n",
    "dt.drop(columns_to_remove, axis = 1, errors = 'ignore', inplace=True)\n",
    "dv.drop(columns_to_remove, axis = 1, errors = 'ignore', inplace=True)\n",
    "dt_s.drop(columns_to_remove, axis = 1, errors = 'ignore', inplace=True)\n",
    "dv_s.drop(columns_to_remove, axis = 1, errors = 'ignore', inplace=True)\n",
    "dt_m.drop(columns_to_remove, axis = 1, errors = 'ignore', inplace=True)\n",
    "dv_m.drop(columns_to_remove, axis = 1, errors = 'ignore', inplace=True)\n",
    "dt.shape"
   ]
  },
  {
   "cell_type": "code",
   "execution_count": 280,
   "metadata": {},
   "outputs": [
    {
     "name": "stdout",
     "output_type": "stream",
     "text": [
      "Linear regression root mean squared validation error: 0.12381540153109069\n",
      "Linear regression root mean squared train error: 0.08481489069731872\n"
     ]
    }
   ],
   "source": [
    "linreg(dt, dv)"
   ]
  },
  {
   "cell_type": "markdown",
   "metadata": {},
   "source": [
    "### 5) Compare your results with the Kaggle leaderboard. You should be able to reach approximately the top 20% there."
   ]
  },
  {
   "cell_type": "code",
   "execution_count": null,
   "metadata": {},
   "outputs": [],
   "source": []
  }
 ],
 "metadata": {
  "kernelspec": {
   "display_name": "Python 3",
   "language": "python",
   "name": "python3"
  },
  "language_info": {
   "codemirror_mode": {
    "name": "ipython",
    "version": 3
   },
   "file_extension": ".py",
   "mimetype": "text/x-python",
   "name": "python",
   "nbconvert_exporter": "python",
   "pygments_lexer": "ipython3",
   "version": "3.7.1"
  }
 },
 "nbformat": 4,
 "nbformat_minor": 2
}
